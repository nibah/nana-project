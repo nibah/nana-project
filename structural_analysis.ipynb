{
 "cells": [
  {
   "cell_type": "code",
   "execution_count": 1,
   "metadata": {},
   "outputs": [],
   "source": [
    "import networkx as nx\n",
    "import numpy as np\n",
    "import pandas as pd\n",
    "from IPython.display import set_matplotlib_formats\n",
    "from monthly_graphs import ImportToDf, ReduceTimeInterval, split_by_month\n",
    "from read_network import merge_edges\n",
    "from structural_balance import is_balanced"
   ]
  },
  {
   "cell_type": "code",
   "execution_count": 2,
   "metadata": {},
   "outputs": [],
   "source": [
    "%matplotlib inline\n",
    "set_matplotlib_formats('svg')"
   ]
  },
  {
   "cell_type": "code",
   "execution_count": 3,
   "metadata": {},
   "outputs": [],
   "source": [
    "title = ImportToDf('data/soc-redditHyperlinks-title.tsv', delimiter = '\\t')\n",
    "body = ImportToDf('data/soc-redditHyperlinks-body.tsv', delimiter = '\\t')\n",
    "hyperlinks = pd.concat([title, body])"
   ]
  },
  {
   "cell_type": "code",
   "execution_count": 4,
   "metadata": {},
   "outputs": [],
   "source": [
    "# weighted monthly graphs\n",
    "wmgs = split_by_month(hyperlinks, undirected=True, threshold=1/3)"
   ]
  },
  {
   "cell_type": "code",
   "execution_count": 5,
   "metadata": {},
   "outputs": [
    {
     "name": "stdout",
     "output_type": "stream",
     "text": [
      "0 monthly graphs were balanced out of 40\n",
      "The mean size of the largest connected components in the monthly graphs is 6767.6\n"
     ]
    }
   ],
   "source": [
    "balanced_months = []\n",
    "largest_component_sizes = np.empty(len(wmgs))\n",
    "for i, WMG in enumerate(wmgs):\n",
    "    largest_component_sizes[i] = len(max(nx.connected_components(WMG), key=len))\n",
    "    if is_balanced(WMG):\n",
    "        balanced_months.append((i, WMG))\n",
    "print(f'{len(balanced_months)} monthly graphs were balanced out of {len(wmgs)}')\n",
    "print(f'The mean size of the largest connected components '\n",
    "      f'in the monthly graphs is {largest_component_sizes.mean()}')"
   ]
  },
  {
   "cell_type": "code",
   "execution_count": 6,
   "metadata": {},
   "outputs": [],
   "source": [
    "# try with daily graphs\n",
    "hyperlinks['TIMESTAMP'] = pd.to_datetime(hyperlinks['TIMESTAMP'])\n",
    "gb = hyperlinks.groupby(hyperlinks['TIMESTAMP'].dt.floor('d'))\n",
    "daily_links = [gb.get_group(g) for g in gb.groups]\n",
    "daily_graphs = [nx.from_pandas_edgelist(links, source='SOURCE_SUBREDDIT',\n",
    "                                        target='TARGET_SUBREDDIT',\n",
    "                                        edge_attr='LINK_SENTIMENT',\n",
    "                                        create_using=nx.MultiDiGraph)\n",
    "               for links in daily_links]\n",
    "# weighted daily graphs\n",
    "wdgs = [merge_edges(graph, undirected=True, threshold=1/3) for graph in daily_graphs]"
   ]
  },
  {
   "cell_type": "code",
   "execution_count": 7,
   "metadata": {},
   "outputs": [
    {
     "name": "stdout",
     "output_type": "stream",
     "text": [
      "1 daily graphs were balanced out of 1217\n",
      "The size of the largest connected components in the first of the balanced graphs is 4.0\n",
      "The mean size of the largest connected components in the daily graphs is 347.88\n"
     ]
    }
   ],
   "source": [
    "balanced_days = []\n",
    "largest_component_sizes = np.empty(len(wdgs))\n",
    "for i, WDG in enumerate(wdgs):\n",
    "    largest_component_sizes[i] = len(max(nx.connected_components(WDG), key=len))\n",
    "    if is_balanced(WDG):\n",
    "        balanced_days.append((i, WDG))\n",
    "print(f'{len(balanced_days)} daily graphs were balanced out of {len(wdgs)}')\n",
    "print(f'The size of the largest connected components in the first of the '\n",
    "      f'balanced graphs is {largest_component_sizes[balanced_days[0][0]]}')\n",
    "print(f'The mean size of the largest connected components '\n",
    "      f'in the daily graphs is {largest_component_sizes.mean():.2f}')"
   ]
  },
  {
   "cell_type": "code",
   "execution_count": 8,
   "metadata": {},
   "outputs": [
    {
     "name": "stdout",
     "output_type": "stream",
     "text": [
      "True\n",
      "4\n",
      "True\n",
      "True\n"
     ]
    }
   ],
   "source": [
    "# some tests for is_balanced, on an example network from the course book (section 5.5):\n",
    "# https://www.cs.cornell.edu/home/kleinber/networks-book/\n",
    "G = nx.Graph()\n",
    "G.add_edges_from([(1, 2, {'SIGN': 1}), (1, 3, {'SIGN': 1}), (2, 3, {'SIGN': 1}),\n",
    "                  (2, 5, {'SIGN': 1}), (6, 8, {'SIGN': 1}), (9, 12, {'SIGN': 1}),\n",
    "                  (7, 12, {'SIGN': 1}), (10, 12, {'SIGN': 1}), (12, 13, {'SIGN': 1}),\n",
    "                  (4, 2, {'SIGN': -1}), (4, 7, {'SIGN': -1}), (4, 9, {'SIGN': -1}),\n",
    "                  (6, 3, {'SIGN': -1}), (6, 5, {'SIGN': -1}), (6, 11, {'SIGN': -1}),\n",
    "                  (8, 11, {'SIGN': -1}), (11, 14, {'SIGN': -1}), (11, 10, {'SIGN': -1}),\n",
    "                  (11, 13, {'SIGN': -1}), (15, 14, {'SIGN': -1}), (15, 13, {'SIGN': -1})])\n",
    "print(not is_balanced(G))\n",
    "\n",
    "# now modify a few edges so that it is balanced\n",
    "nx.set_edge_attributes(G, values={(6, 11): 1, (8, 11): 1, (11, 14): 1, (15, 13): 1}, name='SIGN')\n",
    "\n",
    "# now try to add three more connected components\n",
    "G.add_edges_from([(42, 23, {'SIGN': 1}), (23, 17, {'SIGN': 1}), (17, 19, {'SIGN': 1}),\n",
    "                  (77, 88, {'SIGN': 1}), (88, 99, {'SIGN': -1}), (77, 99, {'SIGN': -1}),\n",
    "                  (55, 66, {'SIGN': -1})])\n",
    "print(len(list(nx.connected_components(G))))\n",
    "print(is_balanced(G))\n",
    "\n",
    "# now make one component unbalanced\n",
    "G[88][99]['SIGN'] = 1\n",
    "print(not is_balanced(G))"
   ]
  },
  {
   "cell_type": "code",
   "execution_count": 9,
   "metadata": {},
   "outputs": [],
   "source": [
    "# let's examine other structural properties of the network\n",
    "MG = nx.from_pandas_edgelist(hyperlinks, 'SOURCE_SUBREDDIT', 'TARGET_SUBREDDIT',\n",
    "                             edge_attr=None, create_using=nx.MultiDiGraph)"
   ]
  },
  {
   "cell_type": "code",
   "execution_count": 10,
   "metadata": {},
   "outputs": [
    {
     "name": "stdout",
     "output_type": "stream",
     "text": [
      "There are a total of 67180 nodes\n",
      "and 858488 edges in the network\n"
     ]
    }
   ],
   "source": [
    "print(f'There are a total of {len(MG)} nodes\\nand {len(MG.edges)} edges in the network')"
   ]
  },
  {
   "cell_type": "code",
   "execution_count": 11,
   "metadata": {},
   "outputs": [
    {
     "name": "stdout",
     "output_type": "stream",
     "text": [
      "Number of weakly connected components: 712\n",
      "Top sizes of weakly connected components:\n",
      "65648\n",
      "9\n",
      "8\n",
      "7\n",
      "7\n",
      "6\n",
      "6\n"
     ]
    }
   ],
   "source": [
    "# is there a giant component?\n",
    "wccs = sorted(nx.weakly_connected_components(MG), key=len, reverse=True)\n",
    "print('Number of weakly connected components:', len(wccs))\n",
    "print('Top sizes of weakly connected components:')\n",
    "for c in wccs[:7]:\n",
    "    print(len(c))"
   ]
  },
  {
   "cell_type": "code",
   "execution_count": 12,
   "metadata": {},
   "outputs": [
    {
     "name": "stdout",
     "output_type": "stream",
     "text": [
      "Number of strongly connected components: 45564\n",
      "Top sizes of strongly connected components:\n",
      "21432\n",
      "5\n",
      "5\n",
      "4\n",
      "4\n",
      "4\n",
      "3\n"
     ]
    }
   ],
   "source": [
    "# what about strongly connected\n",
    "sccs = sorted(nx.strongly_connected_components(MG), key=len, reverse=True)\n",
    "print('Number of strongly connected components:', len(sccs))\n",
    "print('Top sizes of strongly connected components:')\n",
    "for c in sccs[:7]:\n",
    "    print(len(c))"
   ]
  }
 ],
 "metadata": {
  "kernelspec": {
   "display_name": "Python 3",
   "language": "python",
   "name": "python3"
  },
  "language_info": {
   "codemirror_mode": {
    "name": "ipython",
    "version": 3
   },
   "file_extension": ".py",
   "mimetype": "text/x-python",
   "name": "python",
   "nbconvert_exporter": "python",
   "pygments_lexer": "ipython3",
   "version": "3.7.6"
  }
 },
 "nbformat": 4,
 "nbformat_minor": 2
}
